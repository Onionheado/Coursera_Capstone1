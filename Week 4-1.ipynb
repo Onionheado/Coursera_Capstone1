{
 "cells": [
  {
   "cell_type": "markdown",
   "metadata": {
    "collapsed": true
   },
   "source": [
    "# Business Proposal"
   ]
  },
  {
   "cell_type": "markdown",
   "metadata": {},
   "source": [
    "## Problems to Solve:\n",
    "\n",
    "As indicated in the Introduction part of the Assignment: \"The major purpose of this project, is to suggest a better neighborhood in a new city for the person who are shiffting there. Social presence in society in terms of like minded people. Connectivity to the airport, bus stand, city center, markets and other daily needs things nearby.\"\n",
    "\n",
    "1. Sorted list of house in terms of housing prices in a ascending or descending order\n",
    "2. Sorted list of schools in terms of location, fees, rating and reviews\n",
    "\n",
    "\n",
    "## The Location:\n",
    "Scarborough is a popular destination for new immigrants in Canada to reside; one of the most diverse, multicultural, and rich-religeous areas in the Greater Toronto. Although immigration has become a hot topic over the past few years with more governments seeking more restrictions on immigrants and refugees, the general trend of immigration into Canada has been one of on the rise.\n",
    "\n",
    "\n",
    "## Foursquare API:\n",
    "Adopt Four-square API as its prime data gathering source as it has a database of millions of places\n",
    "\n",
    "\n",
    "## Work Flow:\n",
    "Foursquare API features of near-by places of the neighborhoods will be scrapped. Neighborhood parameter 100 and the radius parameter 500 due to request restriction\n",
    "\n",
    "\n",
    "## Approaches:\n",
    "Focus on studying neighborhoods, segment, and group into clusters to find similar neighborhoods in a big city like New York and Toronto. Use  unsupervised machine learning: k-means clustering algorithm\n",
    "\n",
    "\n",
    "## Libraries Needed for the Project:\n",
    "Pandas and Numpy: For creating and manipulating dataframes.Numpy will be imported just in case applying some basic linear algebra operations.\n",
    "\n",
    "Folium: Visualize the neighborhoods cluster distribution of using interactive leaflet map.\n",
    "\n",
    "Scikit-Learn: Machine Learning module for k-means clustering.\n",
    "\n",
    "JSON: Read and process JSON files.\n",
    "\n",
    "XML: To separate data from presentation and XML stores data in plain text format.\n",
    "\n",
    "Geocoder: Get Location Data.\n",
    "\n",
    "Beautiful Soup and Requests: Combine both to scrape data off of websites.\n",
    "\n",
    "Matplotlib: Plotting data."
   ]
  }
 ],
 "metadata": {
  "kernelspec": {
   "display_name": "Python 3",
   "language": "python",
   "name": "python3"
  },
  "language_info": {
   "codemirror_mode": {
    "name": "ipython",
    "version": 3
   },
   "file_extension": ".py",
   "mimetype": "text/x-python",
   "name": "python",
   "nbconvert_exporter": "python",
   "pygments_lexer": "ipython3",
   "version": "3.8.3"
  }
 },
 "nbformat": 4,
 "nbformat_minor": 1
}
